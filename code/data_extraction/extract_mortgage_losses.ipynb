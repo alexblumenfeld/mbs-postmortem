{
 "cells": [
  {
   "cell_type": "markdown",
   "metadata": {},
   "source": [
    "# Current progress (8/17/2020)\n",
    "Successfully extracted and saved ALL realized losses data <br>\n",
    "Began making preliminary graphs of realized losses data <br>\n",
    "NEXT STEP: extract WAC data, which comes from \"Pool Detail\" in the old-format reports and from \"Remittance Summary Group\" in the new-format reports"
   ]
  },
  {
   "cell_type": "code",
   "execution_count": 1,
   "metadata": {},
   "outputs": [],
   "source": [
    "import xlwings as xw\n",
    "import numpy as np\n",
    "import pandas as pd\n",
    "import matplotlib.pyplot as plt\n",
    "import os\n",
    "import pickle\n",
    "xw.App.DisplayAlerts = False"
   ]
  },
  {
   "cell_type": "markdown",
   "metadata": {},
   "source": [
    "## Stage 1: Data extraction functions"
   ]
  },
  {
   "cell_type": "code",
   "execution_count": 2,
   "metadata": {},
   "outputs": [],
   "source": [
    "# The core data extraction function for January 2007 to May 2013\n",
    "def extract_jan07_may13():\n",
    "    reports_loc = '/Users/Alex/Library/Group Containers/UBF8T346G9.Office/BSABS_2006-HE10_INVESTOR_REPORTS/' + \\\n",
    "        '2007 Through May 2013' + '/'\n",
    "    reports_dir = os.listdir(reports_loc)\n",
    "    reports_dir.sort(key=lambda z: z[-8:]+z[-14:-12])\n",
    "    # Create a list to hold the monthly dataframes, which we'll concatenate at the end\n",
    "    data_list = [x for x in range(14, len(reports_dir) - 1)] # range starts at 14, so we begin at March 2008\n",
    "    for i in range(14, len(reports_dir) - 1):\n",
    "        filename = reports_loc + reports_dir[i]\n",
    "        investor_rpt = xw.Book(filename)\n",
    "        for sheet in investor_rpt.sheets:\n",
    "            if 'Hist Payoff Loss Summaryl' in sheet.name:\n",
    "                hist_payoff_loss = investor_rpt.sheets['Hist Payoff Loss Summaryl']\n",
    "            elif 'Hist Payoff Loss Summary' in sheet.name:\n",
    "                hist_payoff_loss = investor_rpt.sheets['Hist Payoff Loss Summary']\n",
    "        # Set up a dataframe to hold an entire month's numbers\n",
    "        one_month = pd.DataFrame(columns=['Date','EMPTY1', 'Ending Pool (Count)', 'Ending Pool (Balance)', \\\n",
    "        'EMPTY2', 'Payoffs (Count)', 'Payoffs (Balance)', 'EMPTY3', \\\n",
    "        'Insurance Proceeds', 'EMPTY4', 'Substitution Proceeds', 'EMPTY5', \\\n",
    "        'Liquidation Proceeds','EMPTY6', 'Realized Losses (Count)','Realized Losses (Amount)', 'Remaining Term', \\\n",
    "        'Current WAC', 'Current WAC - Remit'])\n",
    "        # Set up the row numbers of the current-month data we're looking for\n",
    "        locations  = []\n",
    "        if (int(filename[-8:-4]) > 2012) or (int(filename[-8:-4]) == 2012 and int(filename[-14:-12])>10):\n",
    "            # Deals with the reports from March 2008 to October 2012\n",
    "            locations = [13,29,51,67,89,105,127,143,165,181,203,219,241,257,279,295]\n",
    "        else:\n",
    "            # Deals with the reports from November 2012 to May 2013\n",
    "            locations = [13,29,50,66,87,103,124,140,161,177,198,214,235,251,272,288]\n",
    "        # For each row, grab all the data, and put it into the dataframe using the loan group name as the index value\n",
    "        for row_num in locations:\n",
    "            row_loc = \"A\" + str(row_num) + \":S\" + str(row_num)\n",
    "            name_loc = \"A\" + str(row_num-1) + \":A\" + str(row_num-1)\n",
    "            current_data = hist_payoff_loss.range(row_loc).options(np.array).value\n",
    "            if int(filename[-8:-4] == 2009) and int(filename[-14:-12] == 12):\n",
    "                print(current_data)\n",
    "            group_name = hist_payoff_loss.range(name_loc).value\n",
    "            one_month.loc[group_name] = current_data\n",
    "        # Put the current month's dataframe into the proper spot in the 'master list'\n",
    "        data_list[i-14] = one_month\n",
    "        investor_rpt.close()\n",
    "        \n",
    "    march08_onward_df = pd.concat(data_list)\n",
    "    # Set up the MultiIndex of the March 2008-May 2013 output dataframe\n",
    "    march08_onward_df.index.rename('Group',inplace=True)\n",
    "    march08_onward_df.set_index('Date',append=True,inplace=True)\n",
    "    march08_onward_df = march08_onward_df.reorder_levels(['Date','Group'])\n",
    "    \n",
    "    # Grab the January 2007 through February 2008 data from the February 2008 report\n",
    "    feb08_rpt = xw.Book(reports_loc + 'bear-stearns-2006-he10-investor-report-02-25-2008.XLS')\n",
    "    feb08_hist_payoff_loss = feb08_rpt.sheets['Hist Payoff Loss Summary']\n",
    "    feb08_locations = [13,29,50,66,87,103,124,140,161,177,198,214,235,251,272,288]\n",
    "    one_month = pd.DataFrame(columns=['Date','EMPTY1', 'Ending Pool (Count)', 'Ending Pool (Balance)', \\\n",
    "        'EMPTY2', 'Payoffs (Count)', 'Payoffs (Balance)', 'EMPTY3','Insurance Proceeds', 'EMPTY4', \\\n",
    "        'Substitution Proceeds', 'EMPTY5', 'Liquidation Proceeds','EMPTY6', 'Realized Losses (Count)',\\\n",
    "        'Realized Losses (Amount)', 'Remaining Term', 'Current WAC', 'Current WAC - Remit'])\n",
    "    jan07_feb08 = [x for x in range(14)]\n",
    "    for month_num in range(14):\n",
    "        one_month = pd.DataFrame(columns=['Date','EMPTY1', 'Ending Pool (Count)', 'Ending Pool (Balance)', \\\n",
    "            'EMPTY2', 'Payoffs (Count)', 'Payoffs (Balance)', 'EMPTY3','Insurance Proceeds', 'EMPTY4', \\\n",
    "            'Substitution Proceeds', 'EMPTY5', 'Liquidation Proceeds','EMPTY6', 'Realized Losses (Count)',\\\n",
    "            'Realized Losses (Amount)', 'Remaining Term', 'Current WAC', 'Current WAC - Remit'])\n",
    "        for row_num in feb08_locations:\n",
    "                row_loc = \"A\" + str(row_num) + \":S\" + str(row_num)\n",
    "                name_loc = \"A\" + str(row_num-month_num-1) + \":A\" + str(row_num-month_num-1)\n",
    "                current_data = feb08_hist_payoff_loss.range(row_loc).options(np.array).value\n",
    "                group_name = feb08_hist_payoff_loss.range(name_loc).value\n",
    "                one_month.loc[group_name] = current_data\n",
    "        jan07_feb08[month_num] = one_month\n",
    "        feb08_locations = [n+1 for n in feb08_locations]\n",
    "    jan07_feb08.reverse()\n",
    "    jan07_feb08_df = pd.concat(jan07_feb08)\n",
    "    jan07_feb08_df.index.rename('Group',inplace=True)\n",
    "    jan07_feb08_df.set_index('Date',append=True,inplace=True)\n",
    "    jan07_feb08_df = jan07_feb08_df.reorder_levels(['Date','Group'])\n",
    "    \n",
    "    # Combine the January 2007-February 2008 and March 2008-May 2013 data into one object, to be cleaned up later\n",
    "    supreme_df = pd.concat([jan07_feb08_df, march08_onward_df])\n",
    "    \n",
    "    return supreme_df"
   ]
  },
  {
   "cell_type": "code",
   "execution_count": 3,
   "metadata": {},
   "outputs": [],
   "source": [
    "def extract_new_format_month(reports_loc, filename):\n",
    "    full_path = reports_loc + filename\n",
    "    investor_rpt = xw.Book(full_path)\n",
    "    remit_summary_group = investor_rpt.sheets['Remittance Summary Group']\n",
    "    # Set up a dataframe to hold the entire month's numbers\n",
    "    one_month = pd.DataFrame(columns=['Net Realized Losses'])\n",
    "    \n",
    "    # Find the correct locations in the sheet, depending on the date of the investor report being accessed\n",
    "    if int(filename[-8:-4]) < 2014 or (int(filename[-8:-4]) == 2014 and int(filename[-14:-12]) < 3):\n",
    "        # June 2013 - February 2014\n",
    "        locations_dict = {'Total': 'C17', 'Group 1': 'D17', 'Group 2': 'E17'}\n",
    "    elif int(filename[-8:-4]) < 2015 or (int(filename[-8:-4]) == 2015 and int(filename[-14:-12]) < 2):\n",
    "        # March 2014 - January 2015\n",
    "        locations_dict = {'Total': 'F14', 'Group 1': 'G14', 'Group 2': 'H14'}\n",
    "    else:\n",
    "        # February 2015 - March 2020\n",
    "        locations_dict = {'Total': 'E14', 'Group 1': 'F14', 'Group 2': 'G14'}\n",
    "    \n",
    "    # Grab the Net Realized Losses numbers from the sheet\n",
    "    one_month.loc['Group 1'] = remit_summary_group.range(locations_dict['Group 1']).value\n",
    "    one_month.loc['Group 2'] = remit_summary_group.range(locations_dict['Group 2']).value\n",
    "    one_month.loc['Total'] = remit_summary_group.range(locations_dict['Total']).value\n",
    "    \n",
    "    investor_rpt.close()\n",
    "                      \n",
    "    one_month['Date'] = pd.to_datetime(filename[-14:-4])\n",
    "    one_month.index.rename('Group',inplace=True)\n",
    "    return one_month"
   ]
  },
  {
   "cell_type": "code",
   "execution_count": 4,
   "metadata": {},
   "outputs": [],
   "source": [
    "def extract_new_format_all():\n",
    "    reports_loc = '/Users/Alex/Library/Group Containers/UBF8T346G9.Office/BSABS_2006-HE10_INVESTOR_REPORTS/' + \\\n",
    "        'June 2013 Through March 2020' + '/'\n",
    "    reports_dir = os.listdir(reports_loc)\n",
    "    reports_dir.sort(key=lambda z: z[-8:]+z[-14:-12])\n",
    "    # Create a list to hold the monthly dataframes, which we'll concatenate at the end\n",
    "    data_list = [x for x in range(len(reports_dir) - 1)]\n",
    "    for i in range(len(reports_dir) - 1):\n",
    "        data_list[i] = extract_new_format_month(reports_loc, reports_dir[i])\n",
    "    data_df = pd.concat(data_list)\n",
    "    # Set up the MultiIndex of the final output dataframe\n",
    "    data_df.set_index('Date',append=True,inplace=True)\n",
    "    data_df = data_df.reorder_levels(['Date', 'Group'])\n",
    "    return data_df"
   ]
  },
  {
   "cell_type": "markdown",
   "metadata": {},
   "source": [
    "# Stage 2: Get the data"
   ]
  },
  {
   "cell_type": "code",
   "execution_count": 5,
   "metadata": {},
   "outputs": [],
   "source": [
    "old_format_data = extract_jan07_may13()"
   ]
  },
  {
   "cell_type": "code",
   "execution_count": 6,
   "metadata": {},
   "outputs": [],
   "source": [
    "new_format_data = extract_new_format_all()"
   ]
  },
  {
   "cell_type": "markdown",
   "metadata": {},
   "source": [
    "# Stage 3: Clean the two dataframes\n",
    "Requirements:\n",
    "- Remove empty columns - <b>DONE</b>\n",
    "- Create summary rows for Fixed and ARM - <b>DONE</b>\n",
    "- Create summary rows for Group 1 and Group 2 - <b>DONE</b>\n",
    "- Create a copy, which will have everything taken out except Realized Losses (to be concatenated with new_format_data) - <b>DONE</b>\n",
    "\n",
    "NOTE: My method of calculating WAC here might not be correct - it diverges from the 'WAC - Current' in the Pool Detail sheet <br>\n",
    "^I modified the column names to indicate this"
   ]
  },
  {
   "cell_type": "code",
   "execution_count": 7,
   "metadata": {},
   "outputs": [],
   "source": [
    "# Creates rows with totals for Fixed and ARM loans\n",
    "def fixed_arm_totals(df, month):\n",
    "    # For this particular month, set up rows to contain the total fixed and ARM data\n",
    "    df.loc[(month,'Fixed'),:] = np.zeros((12))\n",
    "    df.loc[(month,'ARM'),:] = np.zeros((12))\n",
    "    fixed_only = df[df.index.get_level_values(1).str.contains('Fixed')]\n",
    "    arm_only = df[df.index.get_level_values(1).str.contains('ARM')]\n",
    "    \n",
    "    # Calculate weighted averages for Remaining Term, Current WAC and Current WAC - Remit\n",
    "    for col in df.columns.tolist()[-3:]:\n",
    "        # For each column of data, find the weighted averages for fixed and adjustable rate loans\n",
    "        fixed_weighted = fixed_only[fixed_only.index.get_level_values(0)==month][col] * \\\n",
    "            fixed_only[fixed_only.index.get_level_values(0)==month]['Ending Pool (Count)']\n",
    "        arm_weighted = arm_only[arm_only.index.get_level_values(0)==month][col] * \\\n",
    "            arm_only[arm_only.index.get_level_values(0)==month]['Ending Pool (Count)']\n",
    "        fixed_avg = fixed_weighted.sum() / \\\n",
    "            fixed_only[fixed_only.index.get_level_values(0)==month]['Ending Pool (Count)'].sum()\n",
    "        arm_avg = arm_weighted.sum() / \\\n",
    "            arm_only[arm_only.index.get_level_values(0)==month]['Ending Pool (Count)'].sum()\n",
    "        # Assign the weighted average to the general 'Fixed' and 'ARM' rows\n",
    "        df.loc[(month,'Fixed'),col] = fixed_avg\n",
    "        df.loc[(month,'ARM'),col] = arm_avg\n",
    "    \n",
    "    # Calculate sums for Ending Pool (Count) up through Realized Losses (Amount)\n",
    "    for col in df.columns.tolist()[:-3]:\n",
    "        df.loc[(month, 'Fixed'),col] = fixed_only[fixed_only.index.get_level_values(0)==month][col].sum()\n",
    "        df.loc[(month, 'ARM'),col] = arm_only[arm_only.index.get_level_values(0)==month][col].sum()"
   ]
  },
  {
   "cell_type": "code",
   "execution_count": 8,
   "metadata": {},
   "outputs": [],
   "source": [
    "# Creates rows with totals for Groups I and II\n",
    "def groups_I_II_totals(df, month):\n",
    "    # For this particular month, set up rows to contain the total Groups I and II data\n",
    "    df.loc[(month,'Group I'),:] = np.zeros((12))\n",
    "    df.loc[(month,'Group II'),:] = np.zeros((12))\n",
    "    groupI_only = df[df.index.get_level_values(1).str.contains('Group I ')]\n",
    "    groupII_only = df[df.index.get_level_values(1).str.contains('Group II')]\n",
    "    \n",
    "    # Calculate weighted averages for Remaining Term, Current WAC and Current WAC - Remit\n",
    "    for col in df.columns.tolist()[-3:]:\n",
    "        # For each column of data, find the weighted averages for fixed and adjustable rate loans\n",
    "        groupI_weighted = groupI_only[groupI_only.index.get_level_values(0)==month][col] * \\\n",
    "            groupI_only[groupI_only.index.get_level_values(0)==month]['Ending Pool (Count)']\n",
    "        groupII_weighted = groupII_only[groupII_only.index.get_level_values(0)==month][col] * \\\n",
    "            groupII_only[groupII_only.index.get_level_values(0)==month]['Ending Pool (Count)']\n",
    "        groupI_avg = groupI_weighted.sum() / \\\n",
    "            groupI_only[groupI_only.index.get_level_values(0)==month]['Ending Pool (Count)'].sum()\n",
    "        groupII_avg = groupII_weighted.sum() / \\\n",
    "            groupII_only[groupII_only.index.get_level_values(0)==month]['Ending Pool (Count)'].sum()\n",
    "        # Assign the weighted average to the general 'Fixed' and 'ARM' rows\n",
    "        df.loc[(month,'Group I'),col] = groupI_avg\n",
    "        df.loc[(month,'Group II'),col] = groupII_avg\n",
    "    \n",
    "    # Calculate sums for Ending Pool (Count) up through Realized Losses (Amount)\n",
    "    for col in df.columns.tolist()[:-3]:\n",
    "        df.loc[(month, 'Group I'),col] = groupI_only[groupI_only.index.get_level_values(0)==month][col].sum()\n",
    "        df.loc[(month, 'Group II'),col] = groupII_only[groupII_only.index.get_level_values(0)==month][col].sum()"
   ]
  },
  {
   "cell_type": "code",
   "execution_count": 9,
   "metadata": {},
   "outputs": [],
   "source": [
    "# Remove empty columns\n",
    "old_format_data = old_format_data[['Ending Pool (Count)', 'Ending Pool (Balance)', 'Payoffs (Count)', \\\n",
    "        'Payoffs (Balance)', 'Insurance Proceeds', 'Substitution Proceeds', 'Liquidation Proceeds', \\\n",
    "        'Realized Losses (Count)', 'Realized Losses (Amount)', 'Remaining Term', 'Current WAC', \\\n",
    "        'Current WAC - Remit']]\n",
    "old_format_data\n",
    "\n",
    "# Create summary rows for Fixed and ARM, and then for Groups I and II\n",
    "old_format_deep_copy = old_format_data.copy(deep=True)\n",
    "months = old_format_deep_copy.index.get_level_values(0)\n",
    "months = months.drop_duplicates(keep='first')\n",
    "for month in months:\n",
    "    fixed_arm_totals(old_format_deep_copy, month)\n",
    "    groups_I_II_totals(old_format_deep_copy, month)\n",
    "\n",
    "# Create an extra DataFrame to hold only the old-report-format losses data, which will then\n",
    "# get concatenated with the new-report-format losses data\n",
    "old_format_just_losses = old_format_deep_copy.copy(deep=True)\n",
    "old_format_just_losses = old_format_just_losses[['Realized Losses (Amount)']]\n",
    "\n",
    "# Copy over the Total, Fixed, ARM, Group I, Group II rows, but not any of the subgroup-level data\n",
    "OFJL_groups = old_format_just_losses.index.get_level_values(1).tolist()\n",
    "OFJL_dates = old_format_just_losses.index.get_level_values(0)\n",
    "old_format_just_losses.index = pd.MultiIndex.from_arrays((OFJL_dates,OFJL_groups))\n",
    "OFJL_total = old_format_just_losses[old_format_just_losses.index.get_level_values(1) == 'Total (All Loans)']\n",
    "OFJL_fixed = old_format_just_losses[old_format_just_losses.index.get_level_values(1) == 'Fixed']\n",
    "OFJL_arm = old_format_just_losses[old_format_just_losses.index.get_level_values(1) == 'ARM']\n",
    "OFJL_groupI = old_format_just_losses[old_format_just_losses.index.get_level_values(1) == 'Group I']\n",
    "OFJL_groupII = old_format_just_losses[old_format_just_losses.index.get_level_values(1) == 'Group II']\n",
    "OFJL_final = pd.concat([OFJL_total,OFJL_groupI,OFJL_groupII,OFJL_fixed,OFJL_arm])\n",
    "OFJL_final = OFJL_final.sort_index(level=0)"
   ]
  },
  {
   "cell_type": "code",
   "execution_count": 10,
   "metadata": {},
   "outputs": [],
   "source": [
    "# Rename the Group names in new_format_data to match up with OFJL_final, and rename the column\n",
    "new_format_data.reset_index(inplace=True)\n",
    "new_format_data.set_index('Group',inplace=True)\n",
    "new_format_data.rename(columns={'Net Realized Losses':'Realized Losses'}, \\\n",
    "    index={'Group 1': 'Group I', 'Group 2': 'Group II'},inplace=True)\n",
    "new_format_data.set_index('Date',append=True,inplace=True)\n",
    "new_format_data = new_format_data.reorder_levels(['Date', 'Group'])\n",
    "\n",
    "# Rename the column in OFJL_final, as well as the Total (All Loans) row name\n",
    "OFJL_final.rename(index={'Total (All Loans)':'Total'}, columns={'Realized Losses (Amount)':'Realized Losses'},\\\n",
    "    inplace=True)"
   ]
  },
  {
   "cell_type": "markdown",
   "metadata": {},
   "source": [
    "# Stage 4: Merge the two final dataframes and save the result"
   ]
  },
  {
   "cell_type": "code",
   "execution_count": 11,
   "metadata": {},
   "outputs": [],
   "source": [
    "# Create the final realized-losses dataframe\n",
    "realized_losses = pd.concat([OFJL_final, new_format_data])"
   ]
  },
  {
   "cell_type": "code",
   "execution_count": 12,
   "metadata": {},
   "outputs": [],
   "source": [
    "# Save the final realized-losses-only dataframe\n",
    "with open('../../data/mbs_data_pickled/realized_losses.pkl','wb') as f:\n",
    "    pickle.dump(realized_losses,f)\n",
    "\n",
    "# Save the old-format dataframe (which has more granularity) as well\n",
    "# But first, rename the WAC columns to highlight the uncertainty there\n",
    "old_format_copy2 = old_format_data.copy(deep=True)\n",
    "old_format_copy2.rename(columns={'Current WAC':'Current WAC [UNSURE ABOUT CALCULATION]',\\\n",
    "    'Current WAC - Remit':'Current WAC - Remit [UNSURE ABOUT CALCULATION]'},inplace=True)\n",
    "with open('../../data/mbs_data_pickled/hist_payoff_loss_jan07_may13.pkl','wb') as f:\n",
    "    pickle.dump(old_format_copy2,f)"
   ]
  },
  {
   "cell_type": "markdown",
   "metadata": {},
   "source": [
    "# TEST CODE"
   ]
  },
  {
   "cell_type": "code",
   "execution_count": 13,
   "metadata": {},
   "outputs": [
    {
     "ename": "NameError",
     "evalue": "name 'read_RL_test' is not defined",
     "output_type": "error",
     "traceback": [
      "\u001b[0;31m---------------------------------------------------------------------------\u001b[0m",
      "\u001b[0;31mNameError\u001b[0m                                 Traceback (most recent call last)",
      "\u001b[0;32m<ipython-input-13-aee4b3173494>\u001b[0m in \u001b[0;36m<module>\u001b[0;34m\u001b[0m\n\u001b[1;32m      1\u001b[0m \u001b[0;31m# USEFUL CODE SNIPPET (idea came from StackOverflow): allows you to filter a dataframe based on a date range\u001b[0m\u001b[0;34m\u001b[0m\u001b[0;34m\u001b[0m\u001b[0;34m\u001b[0m\u001b[0m\n\u001b[0;32m----> 2\u001b[0;31m \u001b[0mquery1\u001b[0m \u001b[0;34m=\u001b[0m \u001b[0mread_RL_test\u001b[0m\u001b[0;34m.\u001b[0m\u001b[0mindex\u001b[0m\u001b[0;34m.\u001b[0m\u001b[0mget_level_values\u001b[0m\u001b[0;34m(\u001b[0m\u001b[0;36m0\u001b[0m\u001b[0;34m)\u001b[0m \u001b[0;34m>=\u001b[0m \u001b[0mpd\u001b[0m\u001b[0;34m.\u001b[0m\u001b[0mTimestamp\u001b[0m\u001b[0;34m(\u001b[0m\u001b[0;34m'2013-05-01'\u001b[0m\u001b[0;34m)\u001b[0m\u001b[0;34m\u001b[0m\u001b[0;34m\u001b[0m\u001b[0m\n\u001b[0m\u001b[1;32m      3\u001b[0m \u001b[0mintermediate_df\u001b[0m \u001b[0;34m=\u001b[0m \u001b[0mread_RL_test\u001b[0m\u001b[0;34m[\u001b[0m\u001b[0mquery1\u001b[0m\u001b[0;34m]\u001b[0m\u001b[0;34m\u001b[0m\u001b[0;34m\u001b[0m\u001b[0m\n\u001b[1;32m      4\u001b[0m \u001b[0mquery2\u001b[0m \u001b[0;34m=\u001b[0m \u001b[0mintermediate_df\u001b[0m\u001b[0;34m.\u001b[0m\u001b[0mindex\u001b[0m\u001b[0;34m.\u001b[0m\u001b[0mget_level_values\u001b[0m\u001b[0;34m(\u001b[0m\u001b[0;36m0\u001b[0m\u001b[0;34m)\u001b[0m \u001b[0;34m<=\u001b[0m \u001b[0mpd\u001b[0m\u001b[0;34m.\u001b[0m\u001b[0mTimestamp\u001b[0m\u001b[0;34m(\u001b[0m\u001b[0;34m'2013-07-31'\u001b[0m\u001b[0;34m)\u001b[0m\u001b[0;34m\u001b[0m\u001b[0;34m\u001b[0m\u001b[0m\n\u001b[1;32m      5\u001b[0m \u001b[0mreturned_df\u001b[0m \u001b[0;34m=\u001b[0m \u001b[0mintermediate_df\u001b[0m\u001b[0;34m[\u001b[0m\u001b[0mquery2\u001b[0m\u001b[0;34m]\u001b[0m\u001b[0;34m\u001b[0m\u001b[0;34m\u001b[0m\u001b[0m\n",
      "\u001b[0;31mNameError\u001b[0m: name 'read_RL_test' is not defined"
     ]
    }
   ],
   "source": [
    "# USEFUL CODE SNIPPET (idea came from StackOverflow): allows you to filter a dataframe based on a date range\n",
    "query1 = read_RL_test.index.get_level_values(0) >= pd.Timestamp('2013-05-01')\n",
    "intermediate_df = read_RL_test[query1]\n",
    "query2 = intermediate_df.index.get_level_values(0) <= pd.Timestamp('2013-07-31')\n",
    "returned_df = intermediate_df[query2]\n",
    "returned_df"
   ]
  },
  {
   "cell_type": "code",
   "execution_count": null,
   "metadata": {},
   "outputs": [],
   "source": [
    "# Load up the data that I just saved to make sure it was saved properly\n",
    "read_RL_test = pd.read_pickle('/Users/Alex/Desktop/Boston University/UROP Spring 2020' + \\\n",
    "    '/Data Repository/realized_losses.pkl')\n",
    "read_PL_jan07mar13_test = pd.read_pickle('/Users/Alex/Desktop/Boston University/UROP Spring 2020' + \\\n",
    "    '/Data Repository/hist_payoff_loss_jan07_may13.pkl')"
   ]
  },
  {
   "cell_type": "code",
   "execution_count": null,
   "metadata": {},
   "outputs": [
    {
     "data": {
      "image/png": "[encoded data removed]",
      "text/plain": [
       "<Figure size 432x288 with 1 Axes>"
      ]
     },
     "metadata": {
      "needs_background": "light"
     },
     "output_type": "display_data"
    }
   ],
   "source": [
    "graph = plt.figure()\n",
    "axes = graph.add_axes([0,0,1,1])\n",
    "axes.plot(read_RL_test.xs('Total', level=1),label='All Loans')\n",
    "axes.plot(read_RL_test.xs('Group I', level=1),label='Group I Loans')\n",
    "axes.plot(read_RL_test.xs('Group II', level=1),label='Group II Loans')\n",
    "axes.set_title('Realized Losses on Mortgages in BSABS 2006-HE10')\n",
    "axes.set_ylabel('Millions of Dollars')\n",
    "axes.legend(loc=[0.73,0.8])\n",
    "plt.show()"
   ]
  },
  {
   "cell_type": "code",
   "execution_count": null,
   "metadata": {},
   "outputs": [],
   "source": []
  }
 ],
 "metadata": {
  "kernelspec": {
   "display_name": "Python 3",
   "language": "python",
   "name": "python3"
  },
  "language_info": {
   "codemirror_mode": {
    "name": "ipython",
    "version": 3
   },
   "file_extension": ".py",
   "mimetype": "text/x-python",
   "name": "python",
   "nbconvert_exporter": "python",
   "pygments_lexer": "ipython3",
   "version": "3.8.2"
  }
 },
 "nbformat": 4,
 "nbformat_minor": 2
}
