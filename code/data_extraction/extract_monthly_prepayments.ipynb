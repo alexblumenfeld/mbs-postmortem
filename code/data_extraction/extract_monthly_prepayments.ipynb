{
 "cells": [
  {
   "cell_type": "markdown",
   "metadata": {},
   "source": [
    "# Current progress (9/2/2020)\n",
    "Prepared to extract the dollar value of prepayments for each month of the deal\n",
    "NEXT STEP: extract WAC data, which comes from \"Pool Detail\" in the old-format reports and from \"Remittance Summary Group\" in the new-format reports"
   ]
  },
  {
   "cell_type": "code",
   "execution_count": 1,
   "metadata": {},
   "outputs": [],
   "source": [
    "import xlwings as xw\n",
    "import numpy as np\n",
    "import pandas as pd\n",
    "import matplotlib.pyplot as plt\n",
    "import os\n",
    "import pickle\n",
    "xw.App.DisplayAlerts = False"
   ]
  },
  {
   "cell_type": "markdown",
   "metadata": {},
   "source": [
    "## Stage 1: Data extraction functions"
   ]
  },
  {
   "cell_type": "code",
   "execution_count": 2,
   "metadata": {},
   "outputs": [],
   "source": [
    "# The core data extraction function for January 2007 to May 2013\n",
    "def extract_jan07_may13():\n",
    "    reports_loc = '/Users/Alex/Library/Group Containers/UBF8T346G9.Office/BSABS_2006-HE10_INVESTOR_REPORTS/' + \\\n",
    "        '2007 Through May 2013' + '/'\n",
    "    reports_dir = os.listdir(reports_loc)\n",
    "    reports_dir.sort(key=lambda z: z[-8:]+z[-14:-12])\n",
    "    # Create a list to hold the monthly dataframes, which we'll concatenate at the end\n",
    "    data_list = [x for x in range(len(reports_dir) - 1)]\n",
    "    for i in range(len(reports_dir) - 1):\n",
    "        filename = reports_loc + reports_dir[i]\n",
    "        investor_rpt = xw.Book(filename)\n",
    "        # Access the Pool Non-Pool Funds sheet, which contains a lot of useful summary information\n",
    "        pool_nonpool = investor_rpt.sheets['Pool Non-Pool Funds']\n",
    "        # Set up a dataframe to hold an entire month's numbers\n",
    "        one_month = pd.DataFrame(columns=['Prepayments','Date'],index=['Group I','Group II','Total'])\n",
    "        if filename == '/Users/Alex/Library/Group Containers/UBF8T346G9.Office/BSABS_2006-HE10_INVESTOR_REPORTS/' + \\\n",
    "        '2007 Through May 2013/' + 'bear-stearns-2006-he10-investor-report-04-25-2007.XLS':\n",
    "            # Deal with the unique format of the April 2007 report\n",
    "            one_month.loc['Group I','Prepayments'] = 6179640.39\n",
    "            one_month.loc['Group II','Prepayments'] = 4681732.34 + 3545799.35 + 5081073.23\n",
    "            one_month.loc['Total','Prepayments'] = 19488245.31\n",
    "        else:\n",
    "            # Make sure we're using the correct sheet name to access the Cash Reconciliation Summary info\n",
    "            for sheet in investor_rpt.sheets:\n",
    "                if sheet.name == 'Cash Reconciliation Summary':\n",
    "                    CRS = investor_rpt.sheets['Cash Reconciliation Summary']\n",
    "                    break\n",
    "                elif sheet.name == 'Cash Recon Summary':\n",
    "                    CRS = investor_rpt.sheets['Cash Recon Summary']\n",
    "                    break\n",
    "            # Extract the data for each group and each column, for all sheets other than April 2007\n",
    "            one_month.loc['Group I','Prepayments'] = CRS.range('K27').value\n",
    "            one_month.loc['Group II','Prepayments'] = CRS.range('K67').value + CRS.range('K107').value + \\\n",
    "            CRS.range('K147').value\n",
    "            one_month.loc['Total','Prepayments'] = CRS.range('K27').value + CRS.range('K67').value + CRS.range('K107').value + \\\n",
    "            CRS.range('K147').value\n",
    "\n",
    "        # Add on the date\n",
    "        one_month.loc['Group I', 'Date'] = pd.to_datetime(filename[-14:-4])\n",
    "        one_month.loc['Group II', 'Date'] = pd.to_datetime(filename[-14:-4])\n",
    "        one_month.loc['Total', 'Date'] = pd.to_datetime(filename[-14:-4])\n",
    "        # Put the current month's dataframe into the proper spot in the 'master list'\n",
    "        data_list[i] = one_month\n",
    "        investor_rpt.close()\n",
    "        \n",
    "    output_df = pd.concat(data_list)\n",
    "    # Set up the MultiIndex of the March 2008-May 2013 output dataframe\n",
    "    output_df.index.rename('Group',inplace=True)\n",
    "    output_df.set_index('Date',append=True,inplace=True)\n",
    "    output_df = output_df.reorder_levels(['Date','Group'])\n",
    "    \n",
    "    return output_df"
   ]
  },
  {
   "cell_type": "code",
   "execution_count": 3,
   "metadata": {},
   "outputs": [],
   "source": [
    "# The wrapper function for gettiing all data from the new-format reports\n",
    "def extract_new_format_all():\n",
    "    reports_loc = '/Users/Alex/Library/Group Containers/UBF8T346G9.Office/BSABS_2006-HE10_INVESTOR_REPORTS/' + \\\n",
    "        'June 2013 Through March 2020' + '/'\n",
    "    reports_dir = os.listdir(reports_loc)\n",
    "    reports_dir.sort(key=lambda z: z[-8:]+z[-14:-12])\n",
    "    # Create a list to hold the monthly dataframes, which we'll concatenate at the end\n",
    "    data_list = [x for x in range(len(reports_dir) - 1)]\n",
    "    for i in range(len(reports_dir) - 1):\n",
    "        data_list[i] = extract_new_format_month(reports_loc, reports_dir[i])\n",
    "    data_df = pd.concat(data_list)\n",
    "    # Set up the MultiIndex of the final output dataframe\n",
    "    data_df.set_index('Date',append=True,inplace=True)\n",
    "    data_df = data_df.reorder_levels(['Date', 'Group'])\n",
    "    return data_df"
   ]
  },
  {
   "cell_type": "code",
   "execution_count": 4,
   "metadata": {},
   "outputs": [],
   "source": [
    "# The function that grabs data from a single investor report\n",
    "def extract_new_format_month(reports_loc, filename):\n",
    "    full_path = reports_loc + filename\n",
    "    investor_rpt = xw.Book(full_path)\n",
    "    remit_summary_group = investor_rpt.sheets['Remittance Summary Group']\n",
    "    \n",
    "    # Set up a dataframe to hold the entire month's numbers\n",
    "    one_month = pd.DataFrame(columns=['Prepayments','Date'])\n",
    "    \n",
    "    # Find the correct locations in the sheet, depending on the date of the investor report being accessed\n",
    "    if int(filename[-8:-4]) < 2014 or (int(filename[-8:-4]) == 2014 and int(filename[-14:-12]) < 3):\n",
    "        # June 2013 - February 2014\n",
    "        prepayments_dict = {'Group I':'D22','Group II':'E22','Total':'C22'}\n",
    "    elif int(filename[-8:-4]) < 2015 or (int(filename[-8:-4]) == 2015 and int(filename[-14:-12]) < 2):\n",
    "        # March 2014 - January 2015\n",
    "        prepayments_dict = {'Group I':'G28','Group II':'H28','Total':'F28'}\n",
    "    else:\n",
    "        # February 2015 - March 2020\n",
    "        prepayments_dict = {'Group I':'F19','Group II':'G19','Total':'E19'}\n",
    "    \n",
    "    # Grab the Prepayments numbers from the sheet\n",
    "    one_month.loc['Group I','Prepayments'] = remit_summary_group.range(prepayments_dict['Group I']).value\n",
    "    one_month.loc['Group II','Prepayments'] = remit_summary_group.range(prepayments_dict['Group II']).value\n",
    "    one_month.loc['Total', 'Prepayments'] = remit_summary_group.range(prepayments_dict['Total']).value\n",
    "    \n",
    "    investor_rpt.close()\n",
    "                      \n",
    "    one_month['Date'] = pd.to_datetime(filename[-14:-4])\n",
    "    one_month.index.rename('Group',inplace=True)\n",
    "    return one_month"
   ]
  },
  {
   "cell_type": "markdown",
   "metadata": {},
   "source": [
    "# Stage 2: Get the data"
   ]
  },
  {
   "cell_type": "code",
   "execution_count": 5,
   "metadata": {},
   "outputs": [],
   "source": [
    "old_format_data = extract_jan07_may13()"
   ]
  },
  {
   "cell_type": "code",
   "execution_count": 6,
   "metadata": {},
   "outputs": [],
   "source": [
    "new_format_data = extract_new_format_all()"
   ]
  },
  {
   "cell_type": "markdown",
   "metadata": {},
   "source": [
    "# Stage 3: Merge the two dataframes, and save the result"
   ]
  },
  {
   "cell_type": "code",
   "execution_count": 7,
   "metadata": {},
   "outputs": [],
   "source": [
    "# Create the final prepayments dataframe\n",
    "prepayments = pd.concat([old_format_data, new_format_data],sort=True)"
   ]
  },
  {
   "cell_type": "code",
   "execution_count": 8,
   "metadata": {},
   "outputs": [],
   "source": [
    "# Save the final prepayments dataframe\n",
    "with open('../../data/mbs_data_pickled/prepayments.pkl','wb') as f:\n",
    "    pickle.dump(prepayments,f)"
   ]
  }
 ],
 "metadata": {
  "kernelspec": {
   "display_name": "Python 3",
   "language": "python",
   "name": "python3"
  },
  "language_info": {
   "codemirror_mode": {
    "name": "ipython",
    "version": 3
   },
   "file_extension": ".py",
   "mimetype": "text/x-python",
   "name": "python",
   "nbconvert_exporter": "python",
   "pygments_lexer": "ipython3",
   "version": "3.8.2"
  }
 },
 "nbformat": 4,
 "nbformat_minor": 2
}
